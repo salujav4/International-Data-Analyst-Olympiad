{
 "cells": [
  {
   "cell_type": "code",
   "execution_count": 6,
   "id": "cba7add1",
   "metadata": {},
   "outputs": [],
   "source": [
    "import json\n",
    "import os\n",
    "import pandas as pd\n",
    "import numpy as np\n",
    "import matplotlib.pyplot as plt\n",
    "import seaborn as sns\n",
    "import tensorflow as tf\n",
    "import keras_tuner as kt\n",
    "from sklearn.preprocessing import MinMaxScaler, LabelEncoder, StandardScaler, PolynomialFeatures\n",
    "from sklearn.model_selection import train_test_split\n",
    "from sklearn.neighbors import KNeighborsRegressor\n",
    "from sklearn.ensemble import RandomForestRegressor, GradientBoostingRegressor, StackingRegressor\n",
    "from tensorflow.keras.models import Sequential\n",
    "from tensorflow.keras.layers import Dense, Dropout, Conv1D, Conv2D, Flatten, MaxPooling2D, BatchNormalization,MaxPooling1D\n",
    "from tensorflow.keras.optimizers import Adam, SGD, RMSprop\n",
    "from keras_tuner import RandomSearch\n",
    "from sklearn.metrics import classification_report, r2_score, mean_squared_error, mean_absolute_error\n",
    "import pickle\n",
    "from xgboost import XGBRegressor\n",
    "from tensorflow.keras.callbacks import EarlyStopping, ReduceLROnPlateau\n",
    "from sklearn.tree import DecisionTreeRegressor\n",
    "from catboost import CatBoostRegressor\n",
    "from lightgbm import LGBMRegressor\n",
    "from sklearn.svm import SVR, LinearSVR\n",
    "from statistics import stdev, mean\n",
    "from sklearn.ensemble import RandomForestRegressor\n",
    "from sklearn.linear_model import LinearRegression, Ridge, Lasso, RANSACRegressor, ElasticNet\n",
    "from sklearn.pipeline import Pipeline\n",
    "import keras\n",
    "from tensorflow.keras.optimizers import Adam, Adadelta, RMSprop, SGD, Adagrad\n",
    "from sklearn.cross_decomposition import PLSRegression\n",
    "from sklearn.decomposition import PCA\n",
    "import statsmodels.api as sm\n",
    "import statsmodels.formula.api as smf"
   ]
  },
  {
   "cell_type": "code",
   "execution_count": 3,
   "id": "78e1d9ba",
   "metadata": {},
   "outputs": [],
   "source": [
    "def energy_within_threshold(prediction, target):\n",
    "    e_thresh = 0.02\n",
    "    error_energy = tf.math.abs(target - prediction)\n",
    "    success = tf.math.count_nonzero(error_energy < e_thresh)\n",
    "    total = tf.size(target)\n",
    "    return success / tf.cast(total, tf.int64)"
   ]
  },
  {
   "cell_type": "code",
   "execution_count": 20,
   "id": "627ae2e6",
   "metadata": {},
   "outputs": [],
   "source": [
    "def acc(model):\n",
    "    y_pred = model.predict(X_test)\n",
    "    print(r2_score(y_test, y_pred))\n",
    "    print(mean_squared_error(y_test, y_pred))\n",
    "    print(mean_absolute_error(y_test, y_pred))\n",
    "    print(energy_within_threshold(y_pred, y_test))"
   ]
  },
  {
   "cell_type": "code",
   "execution_count": 5,
   "id": "1a50f5db",
   "metadata": {},
   "outputs": [],
   "source": [
    "f = open('train/6141cf0f51c1cbd9654b8870.json')\n",
    "data = json.load(f)\n",
    "df = pd.json_normalize(data, record_path='sites')"
   ]
  },
  {
   "cell_type": "code",
   "execution_count": 7,
   "id": "829bfa25",
   "metadata": {},
   "outputs": [],
   "source": [
    "df_final = pd.DataFrame()\n",
    "k = []\n",
    "for file in os.listdir('train/'):\n",
    "    f = open('train/'+file)\n",
    "    data = json.load(f)\n",
    "    df = pd.json_normalize(data, record_path='sites')\n",
    "    a = []\n",
    "    b = []\n",
    "    for i in range(len(df['abc'][0])):\n",
    "        for j in range(len(df)):\n",
    "            a.append(df['abc'][j][i])\n",
    "        b.append(mean(a))\n",
    "        a.clear()\n",
    "\n",
    "    c = []\n",
    "    for i in range(len(df['xyz'][0])):\n",
    "        for j in range(len(df)):\n",
    "            c.append(df['xyz'][j][i])\n",
    "        b.append(mean(c))\n",
    "        c.clear()\n",
    "\n",
    "    for i in df['label'].value_counts().to_list():\n",
    "        b.append(i)\n",
    "\n",
    "    k.append(b)"
   ]
  },
  {
   "cell_type": "code",
   "execution_count": 9,
   "id": "2482a939",
   "metadata": {},
   "outputs": [],
   "source": [
    "df = pd.DataFrame(k, columns=['abc1','abc2','abc3','xyz1','xyz2','xyz3','S','Mo','Se','W']).fillna(0)"
   ]
  },
  {
   "cell_type": "code",
   "execution_count": 10,
   "id": "be1e52c7",
   "metadata": {},
   "outputs": [
    {
     "data": {
      "text/html": [
       "<div>\n",
       "<style scoped>\n",
       "    .dataframe tbody tr th:only-of-type {\n",
       "        vertical-align: middle;\n",
       "    }\n",
       "\n",
       "    .dataframe tbody tr th {\n",
       "        vertical-align: top;\n",
       "    }\n",
       "\n",
       "    .dataframe thead th {\n",
       "        text-align: right;\n",
       "    }\n",
       "</style>\n",
       "<table border=\"1\" class=\"dataframe\">\n",
       "  <thead>\n",
       "    <tr style=\"text-align: right;\">\n",
       "      <th></th>\n",
       "      <th>abc1</th>\n",
       "      <th>abc2</th>\n",
       "      <th>abc3</th>\n",
       "      <th>xyz1</th>\n",
       "      <th>xyz2</th>\n",
       "      <th>xyz3</th>\n",
       "      <th>S</th>\n",
       "      <th>Mo</th>\n",
       "      <th>Se</th>\n",
       "      <th>W</th>\n",
       "    </tr>\n",
       "  </thead>\n",
       "  <tbody>\n",
       "    <tr>\n",
       "      <th>0</th>\n",
       "      <td>0.505482</td>\n",
       "      <td>0.494518</td>\n",
       "      <td>0.250000</td>\n",
       "      <td>6.590521</td>\n",
       "      <td>10.930398</td>\n",
       "      <td>3.719751</td>\n",
       "      <td>126</td>\n",
       "      <td>64</td>\n",
       "      <td>0.0</td>\n",
       "      <td>0.0</td>\n",
       "    </tr>\n",
       "    <tr>\n",
       "      <th>1</th>\n",
       "      <td>0.507456</td>\n",
       "      <td>0.489254</td>\n",
       "      <td>0.250000</td>\n",
       "      <td>6.708059</td>\n",
       "      <td>10.814066</td>\n",
       "      <td>3.719751</td>\n",
       "      <td>126</td>\n",
       "      <td>64</td>\n",
       "      <td>0.0</td>\n",
       "      <td>0.0</td>\n",
       "    </tr>\n",
       "    <tr>\n",
       "      <th>2</th>\n",
       "      <td>0.505454</td>\n",
       "      <td>0.492583</td>\n",
       "      <td>0.250000</td>\n",
       "      <td>6.614476</td>\n",
       "      <td>10.887636</td>\n",
       "      <td>3.719751</td>\n",
       "      <td>128</td>\n",
       "      <td>63</td>\n",
       "      <td>0.0</td>\n",
       "      <td>0.0</td>\n",
       "    </tr>\n",
       "    <tr>\n",
       "      <th>3</th>\n",
       "      <td>0.506944</td>\n",
       "      <td>0.493056</td>\n",
       "      <td>0.250000</td>\n",
       "      <td>6.646491</td>\n",
       "      <td>10.898084</td>\n",
       "      <td>3.719751</td>\n",
       "      <td>126</td>\n",
       "      <td>64</td>\n",
       "      <td>2.0</td>\n",
       "      <td>0.0</td>\n",
       "    </tr>\n",
       "    <tr>\n",
       "      <th>4</th>\n",
       "      <td>0.508508</td>\n",
       "      <td>0.495419</td>\n",
       "      <td>0.249449</td>\n",
       "      <td>6.656235</td>\n",
       "      <td>10.950320</td>\n",
       "      <td>3.711558</td>\n",
       "      <td>126</td>\n",
       "      <td>64</td>\n",
       "      <td>1.0</td>\n",
       "      <td>0.0</td>\n",
       "    </tr>\n",
       "    <tr>\n",
       "      <th>...</th>\n",
       "      <td>...</td>\n",
       "      <td>...</td>\n",
       "      <td>...</td>\n",
       "      <td>...</td>\n",
       "      <td>...</td>\n",
       "      <td>...</td>\n",
       "      <td>...</td>\n",
       "      <td>...</td>\n",
       "      <td>...</td>\n",
       "      <td>...</td>\n",
       "    </tr>\n",
       "    <tr>\n",
       "      <th>2961</th>\n",
       "      <td>0.505890</td>\n",
       "      <td>0.494110</td>\n",
       "      <td>0.250551</td>\n",
       "      <td>6.606125</td>\n",
       "      <td>10.921389</td>\n",
       "      <td>3.727944</td>\n",
       "      <td>126</td>\n",
       "      <td>63</td>\n",
       "      <td>1.0</td>\n",
       "      <td>1.0</td>\n",
       "    </tr>\n",
       "    <tr>\n",
       "      <th>2962</th>\n",
       "      <td>0.508598</td>\n",
       "      <td>0.491402</td>\n",
       "      <td>0.251113</td>\n",
       "      <td>6.709791</td>\n",
       "      <td>10.861537</td>\n",
       "      <td>3.736311</td>\n",
       "      <td>126</td>\n",
       "      <td>63</td>\n",
       "      <td>0.0</td>\n",
       "      <td>0.0</td>\n",
       "    </tr>\n",
       "    <tr>\n",
       "      <th>2963</th>\n",
       "      <td>0.502646</td>\n",
       "      <td>0.498677</td>\n",
       "      <td>0.250000</td>\n",
       "      <td>6.465031</td>\n",
       "      <td>11.022341</td>\n",
       "      <td>3.719751</td>\n",
       "      <td>126</td>\n",
       "      <td>63</td>\n",
       "      <td>0.0</td>\n",
       "      <td>0.0</td>\n",
       "    </tr>\n",
       "    <tr>\n",
       "      <th>2964</th>\n",
       "      <td>0.506614</td>\n",
       "      <td>0.492063</td>\n",
       "      <td>0.250000</td>\n",
       "      <td>6.650711</td>\n",
       "      <td>10.876156</td>\n",
       "      <td>3.719751</td>\n",
       "      <td>126</td>\n",
       "      <td>63</td>\n",
       "      <td>0.0</td>\n",
       "      <td>0.0</td>\n",
       "    </tr>\n",
       "    <tr>\n",
       "      <th>2965</th>\n",
       "      <td>0.505044</td>\n",
       "      <td>0.493640</td>\n",
       "      <td>0.249446</td>\n",
       "      <td>6.590521</td>\n",
       "      <td>10.911009</td>\n",
       "      <td>3.711515</td>\n",
       "      <td>126</td>\n",
       "      <td>63</td>\n",
       "      <td>1.0</td>\n",
       "      <td>0.0</td>\n",
       "    </tr>\n",
       "  </tbody>\n",
       "</table>\n",
       "<p>2966 rows × 10 columns</p>\n",
       "</div>"
      ],
      "text/plain": [
       "          abc1      abc2      abc3      xyz1       xyz2      xyz3    S  Mo  \\\n",
       "0     0.505482  0.494518  0.250000  6.590521  10.930398  3.719751  126  64   \n",
       "1     0.507456  0.489254  0.250000  6.708059  10.814066  3.719751  126  64   \n",
       "2     0.505454  0.492583  0.250000  6.614476  10.887636  3.719751  128  63   \n",
       "3     0.506944  0.493056  0.250000  6.646491  10.898084  3.719751  126  64   \n",
       "4     0.508508  0.495419  0.249449  6.656235  10.950320  3.711558  126  64   \n",
       "...        ...       ...       ...       ...        ...       ...  ...  ..   \n",
       "2961  0.505890  0.494110  0.250551  6.606125  10.921389  3.727944  126  63   \n",
       "2962  0.508598  0.491402  0.251113  6.709791  10.861537  3.736311  126  63   \n",
       "2963  0.502646  0.498677  0.250000  6.465031  11.022341  3.719751  126  63   \n",
       "2964  0.506614  0.492063  0.250000  6.650711  10.876156  3.719751  126  63   \n",
       "2965  0.505044  0.493640  0.249446  6.590521  10.911009  3.711515  126  63   \n",
       "\n",
       "       Se    W  \n",
       "0     0.0  0.0  \n",
       "1     0.0  0.0  \n",
       "2     0.0  0.0  \n",
       "3     2.0  0.0  \n",
       "4     1.0  0.0  \n",
       "...   ...  ...  \n",
       "2961  1.0  1.0  \n",
       "2962  0.0  0.0  \n",
       "2963  0.0  0.0  \n",
       "2964  0.0  0.0  \n",
       "2965  1.0  0.0  \n",
       "\n",
       "[2966 rows x 10 columns]"
      ]
     },
     "execution_count": 10,
     "metadata": {},
     "output_type": "execute_result"
    }
   ],
   "source": [
    "df"
   ]
  },
  {
   "cell_type": "code",
   "execution_count": 11,
   "id": "aa8eff28",
   "metadata": {},
   "outputs": [],
   "source": [
    "X = df.copy()"
   ]
  },
  {
   "cell_type": "code",
   "execution_count": 12,
   "id": "1c8a316c",
   "metadata": {},
   "outputs": [],
   "source": [
    "y = pd.read_csv('targets.csv').drop(['_id'], axis=1)"
   ]
  },
  {
   "cell_type": "code",
   "execution_count": 13,
   "id": "485e5de6",
   "metadata": {},
   "outputs": [],
   "source": [
    "y = np.array(y).reshape(-1)"
   ]
  },
  {
   "cell_type": "code",
   "execution_count": 14,
   "id": "03329ad1",
   "metadata": {},
   "outputs": [],
   "source": [
    "scaler = MinMaxScaler(feature_range=(0,1))\n",
    "X = pd.DataFrame(scaler.fit_transform(X), columns=X.columns)"
   ]
  },
  {
   "cell_type": "code",
   "execution_count": 55,
   "id": "9aa16221",
   "metadata": {},
   "outputs": [],
   "source": [
    "out_scale = MinMaxScaler(feature_range=(0,1))\n",
    "Y = out_scale.fit_transform(y.reshape(-1,1)).reshape(-1)"
   ]
  },
  {
   "cell_type": "code",
   "execution_count": 15,
   "id": "81922e44",
   "metadata": {},
   "outputs": [
    {
     "data": {
      "text/plain": [
       "<AxesSubplot:>"
      ]
     },
     "execution_count": 15,
     "metadata": {},
     "output_type": "execute_result"
    },
    {
     "data": {
      "image/png": "[encoded data removed]",
      "text/plain": [
       "<Figure size 432x288 with 2 Axes>"
      ]
     },
     "metadata": {
      "needs_background": "light"
     },
     "output_type": "display_data"
    }
   ],
   "source": [
    "sns.heatmap(X.corr())"
   ]
  },
  {
   "cell_type": "code",
   "execution_count": 58,
   "id": "b8034b90",
   "metadata": {},
   "outputs": [],
   "source": [
    "X_train, X_test, y_train, y_test = train_test_split(X, Y, test_size=0.2, random_state=101)"
   ]
  },
  {
   "cell_type": "code",
   "execution_count": 59,
   "id": "93b16da1",
   "metadata": {},
   "outputs": [
    {
     "name": "stdout",
     "output_type": "stream",
     "text": [
      "0.6061012759224471\n",
      "0.0326656483532653\n",
      "0.07086780113517457\n",
      "tf.Tensor(0.601010101010101, shape=(), dtype=float64)\n"
     ]
    }
   ],
   "source": [
    "knn = KNeighborsRegressor(n_neighbors=1, p=1, leaf_size=20)\n",
    "knn.fit(X_train, y_train)\n",
    "acc(knn)"
   ]
  },
  {
   "cell_type": "code",
   "execution_count": 66,
   "id": "e6b4f966",
   "metadata": {},
   "outputs": [
    {
     "data": {
      "text/plain": [
       "<tf.Tensor: shape=(), dtype=float64, numpy=0.5889544688026982>"
      ]
     },
     "execution_count": 66,
     "metadata": {},
     "output_type": "execute_result"
    }
   ],
   "source": [
    "svr = SVR(C=4, epsilon=0.002)\n",
    "svr.fit(X_train, y_train)\n",
    "energy_within_threshold(out_scale.inverse_transform(svr.predict(X_train).reshape(-1,1)), \n",
    "                        out_scale.inverse_transform(y_train.reshape(-1,1)))"
   ]
  },
  {
   "cell_type": "code",
   "execution_count": null,
   "id": "f9dc824b",
   "metadata": {},
   "outputs": [],
   "source": []
  }
 ],
 "metadata": {
  "kernelspec": {
   "display_name": "Python 3",
   "language": "python",
   "name": "python3"
  },
  "language_info": {
   "codemirror_mode": {
    "name": "ipython",
    "version": 3
   },
   "file_extension": ".py",
   "mimetype": "text/x-python",
   "name": "python",
   "nbconvert_exporter": "python",
   "pygments_lexer": "ipython3",
   "version": "3.8.8"
  }
 },
 "nbformat": 4,
 "nbformat_minor": 5
}
